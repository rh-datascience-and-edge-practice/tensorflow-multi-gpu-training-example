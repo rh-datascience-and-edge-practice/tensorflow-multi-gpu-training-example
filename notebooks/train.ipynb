{
 "cells": [
  {
   "cell_type": "code",
   "execution_count": null,
   "metadata": {},
   "outputs": [],
   "source": [
    "import tensorflow as tf\n",
    "from tensorflow.keras import layers\n",
    "from tensorflow.keras import models\n",
    "import numpy as np\n",
    "import argparse\n",
    "import time\n",
    "import sys"
   ]
  },
  {
   "cell_type": "code",
   "execution_count": null,
   "metadata": {},
   "outputs": [],
   "source": [
    "tf.config.experimental.list_physical_devices('GPU')"
   ]
  },
  {
   "cell_type": "code",
   "execution_count": null,
   "metadata": {},
   "outputs": [],
   "source": [
    "!nvidia-smi"
   ]
  },
  {
   "cell_type": "code",
   "execution_count": null,
   "metadata": {},
   "outputs": [],
   "source": [
    "batch_size_per_gpu = 256\n",
    "epochs = 5\n",
    "n_gpus = 1\n",
    "\n",
    "batch_size = batch_size_per_gpu * n_gpus"
   ]
  },
  {
   "cell_type": "code",
   "execution_count": null,
   "metadata": {},
   "outputs": [],
   "source": [
    "# get the training dataset\n",
    "(x_train, y_train), (x_test, y_test) = tf.keras.datasets.cifar10.load_data()\n",
    "\n",
    "device_type = \"GPU\"\n",
    "\n",
    "devices = tf.config.experimental.list_physical_devices(device_type)\n",
    "\n",
    "devices_names = [d.name.split(\"e:\")[1] for d in devices]\n",
    "\n",
    "print(f\"{device_type} available: {devices_names}\")\n",
    "\n",
    "# create a training strategy for utilizing the GPUs\n",
    "strategy = tf.distribute.MirroredStrategy(devices=devices_names[:n_gpus])\n",
    "\n",
    "with strategy.scope():\n",
    "    # load a model architecture from resnet_v2\n",
    "    model = tf.keras.applications.resnet_v2.ResNet50V2(\n",
    "        include_top=True, weights=None, input_shape=(32, 32, 3), classes=10\n",
    "    )\n",
    "    opt = tf.keras.optimizers.SGD(0.01 * n_gpus)\n",
    "    model.compile(\n",
    "        loss=\"sparse_categorical_crossentropy\", optimizer=opt, metrics=[\"accuracy\"]\n",
    "    )"
   ]
  },
  {
   "cell_type": "code",
   "execution_count": null,
   "metadata": {},
   "outputs": [],
   "source": [
    "model.summary()"
   ]
  },
  {
   "cell_type": "code",
   "execution_count": null,
   "metadata": {},
   "outputs": [],
   "source": [
    "model.fit(x=x_train, y=y_train, batch_size=batch_size, epochs=epochs, verbose=2)"
   ]
  }
 ],
 "metadata": {
  "kernelspec": {
   "display_name": "Python 3",
   "language": "python",
   "name": "python3"
  },
  "language_info": {
   "name": "python",
   "version": "3.9.13 (main, Nov  9 2022, 13:16:24) \n[GCC 8.5.0 20210514 (Red Hat 8.5.0-15)]"
  },
  "orig_nbformat": 4,
  "vscode": {
   "interpreter": {
    "hash": "f9f85f796d01129d0dd105a088854619f454435301f6ffec2fea96ecbd9be4ac"
   }
  }
 },
 "nbformat": 4,
 "nbformat_minor": 2
}
